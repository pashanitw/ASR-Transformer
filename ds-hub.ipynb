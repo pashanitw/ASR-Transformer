{
 "cells": [
  {
   "cell_type": "code",
   "execution_count": 1,
   "outputs": [],
   "source": [
    "import torch\n",
    "import os\n",
    "import pandas as pd\n",
    "import tarfile\n",
    "import os.path\n",
    "import csv"
   ],
   "metadata": {
    "collapsed": false,
    "pycharm": {
     "name": "#%%\n"
    }
   }
  },
  {
   "cell_type": "code",
   "execution_count": 9,
   "outputs": [],
   "source": [
    "dataset_path = \"./LJSpeech-1.1/wavs\""
   ],
   "metadata": {
    "collapsed": false,
    "pycharm": {
     "name": "#%%\n"
    }
   }
  },
  {
   "cell_type": "code",
   "execution_count": 10,
   "outputs": [],
   "source": [
    "mylist = os.listdir(dataset_path)"
   ],
   "metadata": {
    "collapsed": false,
    "pycharm": {
     "name": "#%%\n"
    }
   }
  },
  {
   "cell_type": "code",
   "execution_count": 19,
   "outputs": [
    {
     "data": {
      "text/plain": "['LJ007-0005.wav',\n 'LJ038-0170.wav',\n 'LJ028-0259.wav',\n 'LJ011-0177.wav',\n 'LJ042-0077.wav',\n 'LJ039-0164.wav',\n 'LJ016-0338.wav',\n 'LJ045-0238.wav',\n 'LJ031-0068.wav',\n 'LJ006-0011.wav',\n 'LJ010-0163.wav',\n 'LJ043-0063.wav',\n 'LJ037-0233.wav',\n 'LJ010-0177.wav',\n 'LJ037-0227.wav',\n 'LJ043-0077.wav',\n 'LJ039-0170.wav',\n 'LJ006-0005.wav',\n 'LJ011-0163.wav',\n 'LJ042-0063.wav',\n 'LJ030-0068.wav',\n 'LJ044-0238.wav',\n 'LJ007-0011.wav',\n 'LJ038-0164.wav',\n 'LJ019-0047.wav',\n 'LJ026-0132.wav',\n 'LJ007-0039.wav',\n 'LJ044-0210.wav',\n 'LJ030-0040.wav',\n 'LJ028-0265.wav',\n 'LJ005-0095.wav',\n 'LJ027-0126.wav',\n 'LJ018-0053.wav',\n 'LJ028-0503.wav',\n 'LJ039-0158.wav',\n 'LJ045-0204.wav',\n 'LJ031-0054.wav',\n 'LJ016-0304.wav',\n 'LJ004-0081.wav',\n 'LJ006-0039.wav',\n 'LJ031-0040.wav',\n 'LJ045-0210.wav',\n 'LJ016-0310.wav',\n 'LJ004-0095.wav',\n 'LJ027-0132.wav',\n 'LJ018-0047.wav',\n 'LJ028-0517.wav',\n 'LJ030-0054.wav',\n 'LJ044-0204.wav',\n 'LJ028-0271.wav',\n 'LJ038-0158.wav',\n 'LJ019-0053.wav',\n 'LJ026-0126.wav',\n 'LJ003-0231.wav',\n 'LJ040-0018.wav',\n 'LJ013-0118.wav',\n 'LJ048-0114.wav',\n 'LJ032-0013.wav',\n 'LJ046-0243.wav',\n 'LJ049-0100.wav',\n 'LJ002-0225.wav',\n 'LJ025-0175.wav',\n 'LJ033-0007.wav',\n 'LJ047-0243.wav',\n 'LJ033-0013.wav',\n 'LJ049-0114.wav',\n 'LJ002-0231.wav',\n 'LJ041-0018.wav',\n 'LJ025-0161.wav',\n 'LJ012-0118.wav',\n 'LJ032-0007.wav',\n 'LJ003-0225.wav',\n 'LJ048-0100.wav',\n 'LJ005-0056.wav',\n 'LJ030-0083.wav',\n 'LJ013-0124.wav',\n 'LJ040-0024.wav',\n 'LJ048-0128.wav',\n 'LJ019-0084.wav',\n 'LJ042-0088.wav',\n 'LJ011-0188.wav',\n 'LJ004-0042.wav',\n 'LJ031-0097.wav',\n 'LJ012-0130.wav',\n 'LJ025-0149.wav',\n 'LJ041-0030.wav',\n 'LJ002-0219.wav',\n 'LJ018-0090.wav',\n 'LJ049-0128.wav',\n 'LJ012-0124.wav',\n 'LJ041-0024.wav',\n 'LJ043-0088.wav',\n 'LJ010-0188.wav',\n 'LJ018-0084.wav',\n 'LJ004-0056.wav',\n 'LJ031-0083.wav',\n 'LJ013-0130.wav',\n 'LJ040-0030.wav',\n 'LJ003-0219.wav',\n 'LJ019-0090.wav',\n 'LJ005-0042.wav',\n 'LJ030-0097.wav',\n 'LJ008-0144.wav',\n 'LJ037-0031.wav',\n 'LJ014-0196.wav',\n 'LJ047-0096.wav',\n 'LJ006-0213.wav',\n 'LJ021-0143.wav',\n 'LJ034-0089.wav',\n 'LJ036-0025.wav',\n 'LJ019-0279.wav',\n 'LJ009-0150.wav',\n 'LJ015-0182.wav',\n 'LJ046-0082.wav',\n 'LJ007-0207.wav',\n 'LJ015-0196.wav',\n 'LJ046-0096.wav',\n 'LJ007-0213.wav',\n 'LJ001-0048.wav',\n 'LJ036-0031.wav',\n 'LJ009-0144.wav',\n 'LJ014-0182.wav',\n 'LJ047-0082.wav',\n 'LJ006-0207.wav',\n 'LJ021-0157.wav',\n 'LJ035-0089.wav',\n 'LJ018-0279.wav',\n 'LJ008-0150.wav',\n 'LJ037-0025.wav',\n 'LJ016-0106.wav',\n 'LJ045-0006.wav',\n 'LJ029-0073.wav',\n 'LJ008-0178.wav',\n 'LJ018-0251.wav',\n 'LJ005-0297.wav',\n 'LJ028-0067.wav',\n 'LJ017-0112.wav',\n 'LJ030-0242.wav',\n 'LJ044-0012.wav',\n 'LJ036-0019.wav',\n 'LJ042-0249.wav',\n 'LJ001-0060.wav',\n 'LJ019-0245.wav',\n 'LJ001-0074.wav',\n 'LJ009-0178.wav',\n 'LJ019-0251.wav',\n 'LJ005-0283.wav',\n 'LJ028-0073.wav',\n 'LJ017-0106.wav',\n 'LJ044-0006.wav',\n 'LJ018-0245.wav',\n 'LJ037-0019.wav',\n 'LJ016-0112.wav',\n 'LJ045-0012.wav',\n 'LJ029-0067.wav',\n 'LJ021-0180.wav',\n 'LJ014-0155.wav',\n 'LJ047-0055.wav',\n 'LJ033-0205.wav',\n 'LJ008-0187.wav',\n 'LJ002-0027.wav',\n 'LJ028-0098.wav',\n 'LJ015-0141.wav',\n 'LJ022-0138.wav',\n 'LJ046-0041.wav',\n 'LJ032-0211.wav',\n 'LJ005-0268.wav',\n 'LJ009-0193.wav',\n 'LJ050-0133.wav',\n 'LJ003-0033.wav',\n 'LJ009-0187.wav',\n 'LJ050-0127.wav',\n 'LJ003-0027.wav',\n 'LJ015-0155.wav',\n 'LJ032-0205.wav',\n 'LJ046-0055.wav',\n 'LJ008-0193.wav',\n 'LJ002-0033.wav',\n 'LJ021-0194.wav',\n 'LJ029-0098.wav',\n 'LJ014-0141.wav',\n 'LJ023-0138.wav',\n 'LJ033-0211.wav',\n 'LJ047-0041.wav',\n 'LJ018-0292.wav',\n 'LJ035-0062.wav',\n 'LJ004-0240.wav',\n 'LJ047-0069.wav',\n 'LJ023-0110.wav',\n 'LJ014-0169.wav',\n 'LJ019-0286.wav',\n 'LJ040-0226.wav',\n 'LJ034-0076.wav',\n 'LJ005-0254.wav',\n 'LJ022-0104.wav',\n 'LJ005-0240.wav',\n 'LJ032-0239.wav',\n 'LJ046-0069.wav',\n 'LJ022-0110.wav',\n 'LJ015-0169.wav',\n 'LJ019-0292.wav',\n 'LJ034-0062.wav',\n 'LJ040-0232.wav',\n 'LJ023-0104.wav',\n 'LJ018-0286.wav',\n 'LJ035-0076.wav',\n 'LJ037-0145.wav',\n 'LJ010-0215.wav',\n 'LJ018-0319.wav',\n 'LJ008-0030.wav',\n 'LJ002-0190.wav',\n 'LJ039-0212.wav',\n 'LJ021-0037.wav',\n 'LJ009-0024.wav',\n 'LJ001-0128.wav',\n 'LJ036-0151.wav',\n 'LJ011-0201.wav',\n 'LJ050-0084.wav',\n 'LJ003-0184.wav',\n 'LJ020-0023.wav',\n 'LJ038-0206.wav',\n 'LJ020-0037.wav',\n 'LJ038-0212.wav',\n 'LJ019-0319.wav',\n 'LJ009-0030.wav',\n 'LJ036-0145.wav',\n 'LJ011-0215.wav',\n 'LJ050-0090.wav',\n 'LJ003-0190.wav',\n 'LJ039-0206.wav',\n 'LJ021-0023.wav',\n 'LJ037-0151.wav',\n 'LJ010-0201.wav',\n 'LJ008-0024.wav',\n 'LJ002-0184.wav',\n 'LJ029-0107.wav',\n 'LJ016-0072.wav',\n 'LJ045-0172.wav',\n 'LJ010-0229.wav',\n 'LJ037-0179.wav',\n 'LJ018-0325.wav',\n 'LJ012-0285.wav',\n 'LJ017-0066.wav',\n 'LJ044-0166.wav',\n 'LJ028-0113.wav',\n 'LJ009-0018.wav',\n 'LJ019-0331.wav',\n 'LJ001-0114.wav',\n 'LJ019-0325.wav',\n 'LJ011-0229.wav',\n 'LJ036-0179.wav',\n 'LJ001-0100.wav',\n 'LJ048-0289.wav',\n 'LJ017-0072.wav',\n 'LJ044-0172.wav',\n 'LJ028-0107.wav',\n 'LJ008-0018.wav',\n 'LJ018-0331.wav',\n 'LJ012-0291.wav',\n 'LJ029-0113.wav',\n 'LJ016-0066.wav',\n 'LJ045-0166.wav',\n 'LJ014-0021.wav',\n 'LJ023-0058.wav',\n 'LJ047-0121.wav',\n 'LJ002-0153.wav',\n 'LJ037-0186.wav',\n 'LJ015-0035.wav',\n 'LJ046-0135.wav',\n 'LJ044-0199.wav',\n 'LJ017-0099.wav',\n 'LJ050-0047.wav',\n 'LJ003-0147.wav',\n 'LJ048-0262.wav',\n 'LJ036-0192.wav',\n 'LJ050-0053.wav',\n 'LJ003-0153.wav',\n 'LJ048-0276.wav',\n 'LJ036-0186.wav',\n 'LJ015-0021.wav',\n 'LJ022-0058.wav',\n 'LJ046-0121.wav',\n 'LJ002-0147.wav',\n 'LJ037-0192.wav',\n 'LJ014-0035.wav',\n 'LJ047-0135.wav',\n 'LJ045-0199.wav',\n 'LJ016-0099.wav',\n 'LJ035-0116.wav',\n 'LJ012-0246.wav',\n 'LJ023-0064.wav',\n 'LJ034-0102.wav',\n 'LJ013-0252.wav',\n 'LJ046-0109.wav',\n 'LJ022-0070.wav',\n 'LJ015-0009.wav',\n 'LJ022-0064.wav',\n 'LJ034-0116.wav',\n 'LJ013-0246.wav',\n 'LJ047-0109.wav',\n 'LJ023-0070.wav',\n 'LJ014-0009.wav',\n 'LJ035-0102.wav',\n 'LJ012-0252.wav',\n 'LJ038-0004.wav',\n 'LJ017-0258.wav',\n 'LJ030-0108.wav',\n 'LJ007-0171.wav',\n 'LJ011-0003.wav',\n 'LJ042-0103.wav',\n 'LJ009-0226.wav',\n 'LJ006-0165.wav',\n 'LJ039-0010.wav',\n 'LJ008-0232.wav',\n 'LJ010-0017.wav',\n 'LJ043-0117.wav',\n 'LJ008-0226.wav',\n 'LJ010-0003.wav',\n 'LJ043-0103.wav',\n 'LJ016-0258.wav',\n 'LJ031-0108.wav',\n 'LJ006-0171.wav',\n 'LJ039-0004.wav',\n 'LJ011-0017.wav',\n 'LJ042-0117.wav',\n 'LJ009-0232.wav',\n 'LJ038-0010.wav',\n 'LJ028-0339.wav',\n 'LJ007-0165.wav',\n 'LJ013-0093.wav',\n 'LJ040-0193.wav',\n 'LJ026-0046.wav',\n 'LJ019-0133.wav',\n 'LJ032-0198.wav',\n 'LJ028-0311.wav',\n 'LJ038-0038.wav',\n 'LJ030-0134.wav',\n 'LJ017-0264.wav',\n 'LJ012-0087.wav',\n 'LJ041-0187.wav',\n 'LJ028-0477.wav',\n 'LJ018-0127.wav',\n 'LJ027-0052.wav',\n 'LJ006-0159.wav',\n 'LJ031-0120.wav',\n 'LJ021-0209.wav',\n 'LJ033-0198.wav',\n 'LJ031-0134.wav',\n 'LJ016-0264.wav',\n 'LJ039-0038.wav',\n 'LJ012-0093.wav',\n 'LJ041-0193.wav',\n 'LJ028-0463.wav',\n 'LJ018-0133.wav',\n 'LJ027-0046.wav',\n 'LJ028-0305.wav',\n 'LJ007-0159.wav',\n 'LJ030-0120.wav',\n 'LJ017-0270.wav',\n 'LJ013-0087.wav',\n 'LJ040-0187.wav',\n 'LJ026-0052.wav',\n 'LJ019-0127.wav',\n 'LJ048-0060.wav',\n 'LJ003-0345.wav',\n 'LJ050-0245.wav',\n 'LJ024-0015.wav',\n 'LJ032-0167.wav',\n 'LJ015-0237.wav',\n 'LJ041-0178.wav',\n 'LJ025-0001.wav',\n 'LJ012-0078.wav',\n 'LJ028-0488.wav',\n 'LJ049-0074.wav',\n 'LJ033-0173.wav',\n 'LJ014-0223.wav',\n 'LJ033-0167.wav',\n 'LJ014-0237.wav',\n 'LJ025-0015.wav',\n 'LJ049-0060.wav',\n 'LJ032-0173.wav',\n 'LJ015-0223.wav',\n 'LJ048-0074.wav',\n 'LJ040-0178.wav',\n 'LJ024-0001.wav',\n 'LJ050-0251.wav',\n 'LJ013-0078.wav',\n 'LJ005-0122.wav',\n 'LJ026-0085.wav',\n 'LJ013-0050.wav',\n 'LJ024-0029.wav',\n 'LJ040-0150.wav',\n 'LJ004-0136.wav',\n 'LJ027-0091.wav',\n 'LJ012-0044.wav',\n 'LJ041-0144.wav',\n 'LJ049-0048.wav',\n 'LJ027-0085.wav',\n 'LJ012-0050.wav',\n 'LJ025-0029.wav',\n 'LJ041-0150.wav',\n 'LJ004-0122.wav',\n 'LJ026-0091.wav',\n 'LJ048-0048.wav',\n 'LJ013-0044.wav',\n 'LJ040-0144.wav',\n 'LJ005-0136.wav',\n 'LJ004-0123.wav',\n 'LJ041-0151.wav',\n 'LJ012-0051.wav',\n 'LJ025-0028.wav',\n 'LJ027-0084.wav',\n 'LJ005-0137.wav',\n 'LJ040-0145.wav',\n 'LJ013-0045.wav',\n 'LJ048-0049.wav',\n 'LJ026-0090.wav',\n 'LJ040-0151.wav',\n 'LJ013-0051.wav',\n 'LJ024-0028.wav',\n 'LJ050-0278.wav',\n 'LJ026-0084.wav',\n 'LJ005-0123.wav',\n 'LJ049-0049.wav',\n 'LJ041-0145.wav',\n 'LJ012-0045.wav',\n 'LJ027-0090.wav',\n 'LJ004-0137.wav',\n 'LJ049-0061.wav',\n 'LJ025-0014.wav',\n 'LJ014-0236.wav',\n 'LJ033-0166.wav',\n 'LJ050-0250.wav',\n 'LJ013-0079.wav',\n 'LJ040-0179.wav',\n 'LJ048-0075.wav',\n 'LJ015-0222.wav',\n 'LJ032-0172.wav',\n 'LJ015-0236.wav',\n 'LJ032-0166.wav',\n 'LJ024-0014.wav',\n 'LJ050-0244.wav',\n 'LJ003-0344.wav',\n 'LJ048-0061.wav',\n 'LJ014-0222.wav',\n 'LJ033-0172.wav',\n 'LJ028-0489.wav',\n 'LJ049-0075.wav',\n 'LJ012-0079.wav',\n 'LJ041-0179.wav',\n 'LJ027-0047.wav',\n 'LJ018-0132.wav',\n 'LJ028-0462.wav',\n 'LJ041-0192.wav',\n 'LJ012-0092.wav',\n 'LJ039-0039.wav',\n 'LJ016-0265.wav',\n 'LJ031-0135.wav',\n 'LJ033-0199.wav',\n 'LJ019-0126.wav',\n 'LJ026-0053.wav',\n 'LJ040-0186.wav',\n 'LJ013-0086.wav',\n 'LJ017-0271.wav',\n 'LJ007-0158.wav',\n 'LJ030-0121.wav',\n 'LJ028-0304.wav',\n 'LJ017-0265.wav',\n 'LJ030-0135.wav',\n 'LJ038-0039.wav',\n 'LJ028-0310.wav',\n 'LJ032-0199.wav',\n 'LJ019-0132.wav',\n 'LJ026-0047.wav',\n 'LJ040-0192.wav',\n 'LJ013-0092.wav',\n 'LJ021-0208.wav',\n 'LJ016-0271.wav',\n 'LJ006-0158.wav',\n 'LJ031-0121.wav',\n 'LJ027-0053.wav',\n 'LJ018-0126.wav',\n 'LJ028-0476.wav',\n 'LJ041-0186.wav',\n 'LJ012-0086.wav',\n 'LJ039-0005.wav',\n 'LJ031-0109.wav',\n 'LJ006-0170.wav',\n 'LJ016-0259.wav',\n 'LJ043-0102.wav',\n 'LJ010-0002.wav',\n 'LJ008-0227.wav',\n 'LJ007-0164.wav',\n 'LJ028-0338.wav',\n 'LJ038-0011.wav',\n 'LJ009-0233.wav',\n 'LJ042-0116.wav',\n 'LJ011-0016.wav',\n 'LJ009-0227.wav',\n 'LJ042-0102.wav',\n 'LJ011-0002.wav',\n 'LJ030-0109.wav',\n 'LJ007-0170.wav',\n 'LJ017-0259.wav',\n 'LJ038-0005.wav',\n 'LJ043-0116.wav',\n 'LJ010-0016.wav',\n 'LJ008-0233.wav',\n 'LJ039-0011.wav',\n 'LJ006-0164.wav',\n 'LJ013-0247.wav',\n 'LJ034-0117.wav',\n 'LJ022-0065.wav',\n 'LJ012-0253.wav',\n 'LJ035-0103.wav',\n 'LJ023-0071.wav',\n 'LJ014-0008.wav',\n 'LJ047-0108.wav',\n 'LJ023-0065.wav',\n 'LJ012-0247.wav',\n 'LJ035-0117.wav',\n 'LJ022-0071.wav',\n 'LJ015-0008.wav',\n 'LJ046-0108.wav',\n 'LJ013-0253.wav',\n 'LJ034-0103.wav',\n 'LJ046-0120.wav',\n 'LJ015-0020.wav',\n 'LJ022-0059.wav',\n 'LJ036-0187.wav',\n 'LJ048-0277.wav',\n 'LJ003-0152.wav',\n 'LJ050-0052.wav',\n 'LJ016-0098.wav',\n 'LJ045-0198.wav',\n 'LJ047-0134.wav',\n 'LJ014-0034.wav',\n 'LJ037-0193.wav',\n 'LJ002-0146.wav',\n 'LJ037-0187.wav',\n 'LJ002-0152.wav',\n 'LJ047-0120.wav',\n 'LJ014-0020.wav',\n 'LJ023-0059.wav',\n 'LJ036-0193.wav',\n 'LJ048-0263.wav',\n 'LJ003-0146.wav',\n 'LJ050-0046.wav',\n 'LJ017-0098.wav',\n 'LJ044-0198.wav',\n 'LJ046-0134.wav',\n 'LJ015-0034.wav',\n 'LJ028-0106.wav',\n 'LJ044-0173.wav',\n 'LJ017-0073.wav',\n 'LJ048-0288.wav',\n 'LJ036-0178.wav',\n 'LJ001-0101.wav',\n 'LJ011-0228.wav',\n 'LJ019-0324.wav',\n 'LJ045-0167.wav',\n 'LJ016-0067.wav',\n 'LJ029-0112.wav',\n 'LJ012-0290.wav',\n 'LJ018-0330.wav',\n 'LJ008-0019.wav',\n 'LJ012-0284.wav',\n 'LJ018-0324.wav',\n 'LJ037-0178.wav',\n 'LJ010-0228.wav',\n 'LJ045-0173.wav',\n 'LJ016-0073.wav',\n 'LJ029-0106.wav',\n 'LJ001-0115.wav',\n 'LJ019-0330.wav',\n 'LJ009-0019.wav',\n 'LJ028-0112.wav',\n 'LJ044-0167.wav',\n 'LJ017-0067.wav',\n 'LJ003-0191.wav',\n 'LJ050-0091.wav',\n 'LJ011-0214.wav',\n 'LJ036-0144.wav',\n 'LJ009-0031.wav',\n 'LJ019-0318.wav',\n 'LJ038-0213.wav',\n 'LJ020-0036.wav',\n 'LJ002-0185.wav',\n 'LJ008-0025.wav',\n 'LJ010-0200.wav',\n 'LJ037-0150.wav',\n 'LJ021-0022.wav',\n 'LJ039-0207.wav',\n 'LJ021-0036.wav',\n 'LJ039-0213.wav',\n 'LJ002-0191.wav',\n 'LJ008-0031.wav',\n 'LJ018-0318.wav',\n 'LJ010-0214.wav',\n 'LJ037-0144.wav',\n 'LJ038-0207.wav',\n 'LJ020-0022.wav',\n 'LJ003-0185.wav',\n 'LJ050-0085.wav',\n 'LJ011-0200.wav',\n 'LJ001-0129.wav',\n 'LJ036-0150.wav',\n 'LJ009-0025.wav',\n 'LJ040-0233.wav',\n 'LJ034-0063.wav',\n 'LJ019-0293.wav',\n 'LJ022-0111.wav',\n 'LJ015-0168.wav',\n 'LJ005-0241.wav',\n 'LJ046-0068.wav',\n 'LJ032-0238.wav',\n 'LJ035-0077.wav',\n 'LJ018-0287.wav',\n 'LJ023-0105.wav',\n 'LJ023-0111.wav',\n 'LJ014-0168.wav',\n 'LJ004-0241.wav',\n 'LJ047-0068.wav',\n 'LJ035-0063.wav',\n 'LJ018-0293.wav',\n 'LJ022-0105.wav',\n 'LJ005-0255.wav',\n 'LJ034-0077.wav',\n 'LJ040-0227.wav',\n 'LJ019-0287.wav',\n 'LJ046-0054.wav',\n 'LJ032-0204.wav',\n 'LJ015-0154.wav',\n 'LJ003-0026.wav',\n 'LJ050-0126.wav',\n 'LJ009-0186.wav',\n 'LJ047-0040.wav',\n 'LJ033-0210.wav',\n 'LJ014-0140.wav',\n 'LJ023-0139.wav',\n 'LJ029-0099.wav',\n 'LJ021-0195.wav',\n 'LJ002-0032.wav',\n 'LJ008-0192.wav',\n 'LJ002-0026.wav',\n 'LJ008-0186.wav',\n 'LJ033-0204.wav',\n 'LJ047-0054.wav',\n 'LJ014-0154.wav',\n 'LJ021-0181.wav',\n 'LJ003-0032.wav',\n 'LJ050-0132.wav',\n 'LJ009-0192.wav',\n 'LJ032-0210.wav',\n 'LJ046-0040.wav',\n 'LJ005-0269.wav',\n 'LJ015-0140.wav',\n 'LJ022-0139.wav',\n 'LJ028-0099.wav',\n 'LJ044-0007.wav',\n 'LJ017-0107.wav',\n 'LJ028-0072.wav',\n 'LJ005-0282.wav',\n 'LJ019-0250.wav',\n 'LJ009-0179.wav',\n 'LJ001-0075.wav',\n 'LJ029-0066.wav',\n 'LJ045-0013.wav',\n 'LJ016-0113.wav',\n 'LJ037-0018.wav',\n 'LJ018-0244.wav',\n 'LJ018-0250.wav',\n 'LJ029-0072.wav',\n 'LJ045-0007.wav',\n 'LJ016-0107.wav',\n 'LJ019-0244.wav',\n 'LJ042-0248.wav',\n 'LJ036-0018.wav',\n 'LJ001-0061.wav',\n 'LJ044-0013.wav',\n 'LJ030-0243.wav',\n 'LJ017-0113.wav',\n 'LJ028-0066.wav',\n 'LJ005-0296.wav',\n 'LJ009-0145.wav',\n 'LJ001-0049.wav',\n 'LJ036-0030.wav',\n 'LJ007-0212.wav',\n 'LJ046-0097.wav',\n 'LJ015-0197.wav',\n 'LJ037-0024.wav',\n 'LJ008-0151.wav',\n 'LJ018-0278.wav',\n 'LJ035-0088.wav',\n 'LJ021-0156.wav',\n 'LJ006-0206.wav',\n 'LJ047-0083.wav',\n 'LJ014-0183.wav',\n 'LJ021-0142.wav',\n 'LJ006-0212.wav',\n 'LJ047-0097.wav',\n 'LJ014-0197.wav',\n 'LJ037-0030.wav',\n 'LJ008-0145.wav',\n 'LJ007-0206.wav',\n 'LJ046-0083.wav',\n 'LJ015-0183.wav',\n 'LJ009-0151.wav',\n 'LJ019-0278.wav',\n 'LJ036-0024.wav',\n 'LJ034-0088.wav',\n 'LJ031-0082.wav',\n 'LJ004-0057.wav',\n 'LJ018-0085.wav',\n 'LJ010-0189.wav',\n 'LJ043-0089.wav',\n 'LJ041-0025.wav',\n 'LJ012-0125.wav',\n 'LJ049-0129.wav',\n 'LJ030-0096.wav',\n 'LJ005-0043.wav',\n 'LJ019-0091.wav',\n 'LJ040-0031.wav',\n 'LJ003-0218.wav',\n 'LJ013-0131.wav',\n 'LJ011-0189.wav',\n 'LJ042-0089.wav',\n 'LJ019-0085.wav',\n 'LJ048-0129.wav',\n 'LJ040-0025.wav',\n 'LJ013-0125.wav',\n 'LJ030-0082.wav',\n 'LJ005-0057.wav',\n 'LJ018-0091.wav',\n 'LJ041-0031.wav',\n 'LJ002-0218.wav',\n 'LJ012-0131.wav',\n 'LJ025-0148.wav',\n 'LJ031-0096.wav',\n 'LJ004-0043.wav',\n 'LJ025-0160.wav',\n 'LJ012-0119.wav',\n 'LJ002-0230.wav',\n 'LJ041-0019.wav',\n 'LJ049-0115.wav',\n 'LJ033-0012.wav',\n 'LJ047-0242.wav',\n 'LJ048-0101.wav',\n 'LJ003-0224.wav',\n 'LJ032-0006.wav',\n 'LJ046-0242.wav',\n 'LJ032-0012.wav',\n 'LJ048-0115.wav',\n 'LJ013-0119.wav',\n 'LJ003-0230.wav',\n 'LJ040-0019.wav',\n 'LJ033-0006.wav',\n 'LJ025-0174.wav',\n 'LJ002-0224.wav',\n 'LJ049-0101.wav',\n 'LJ028-0516.wav',\n 'LJ018-0046.wav',\n 'LJ027-0133.wav',\n 'LJ004-0094.wav',\n 'LJ016-0311.wav',\n 'LJ006-0038.wav',\n 'LJ045-0211.wav',\n 'LJ031-0041.wav',\n 'LJ026-0127.wav',\n 'LJ019-0052.wav',\n 'LJ005-0080.wav',\n 'LJ038-0159.wav',\n 'LJ028-0270.wav',\n 'LJ044-0205.wav',\n 'LJ030-0055.wav',\n 'LJ005-0094.wav',\n 'LJ028-0264.wav',\n 'LJ007-0038.wav',\n 'LJ030-0041.wav',\n 'LJ044-0211.wav',\n 'LJ026-0133.wav',\n 'LJ019-0046.wav',\n 'LJ004-0080.wav',\n 'LJ016-0305.wav',\n 'LJ031-0055.wav',\n 'LJ045-0205.wav',\n 'LJ039-0159.wav',\n 'LJ028-0502.wav',\n 'LJ018-0052.wav',\n 'LJ027-0127.wav',\n 'LJ006-0004.wav',\n 'LJ039-0171.wav',\n 'LJ043-0076.wav',\n 'LJ037-0226.wav',\n 'LJ010-0176.wav',\n 'LJ038-0165.wav',\n 'LJ044-0239.wav',\n 'LJ030-0069.wav',\n 'LJ007-0010.wav',\n 'LJ042-0062.wav',\n 'LJ011-0162.wav',\n 'LJ042-0076.wav',\n 'LJ011-0176.wav',\n 'LJ028-0258.wav',\n 'LJ038-0171.wav',\n 'LJ007-0004.wav',\n 'LJ037-0232.wav',\n 'LJ043-0062.wav',\n 'LJ010-0162.wav',\n 'LJ031-0069.wav',\n 'LJ045-0239.wav',\n 'LJ006-0010.wav',\n 'LJ016-0339.wav',\n 'LJ039-0165.wav',\n 'LJ042-0060.wav',\n 'LJ026-0119.wav',\n 'LJ011-0160.wav',\n 'LJ007-0012.wav',\n 'LJ038-0167.wav',\n 'LJ037-0224.wav',\n 'LJ043-0074.wav',\n 'LJ010-0174.wav',\n 'LJ018-0078.wav',\n 'LJ039-0173.wav',\n 'LJ006-0006.wav',\n 'LJ039-0167.wav',\n 'LJ006-0012.wav',\n 'LJ043-0060.wav',\n 'LJ037-0230.wav',\n 'LJ027-0119.wav',\n 'LJ010-0160.wav',\n 'LJ007-0006.wav',\n 'LJ038-0173.wav',\n 'LJ019-0078.wav',\n 'LJ042-0074.wav',\n 'LJ011-0174.wav',\n 'LJ030-0057.wav',\n 'LJ044-0207.wav',\n 'LJ028-0272.wav',\n 'LJ005-0082.wav',\n 'LJ019-0050.wav',\n 'LJ026-0125.wav',\n 'LJ016-0313.wav',\n 'LJ031-0043.wav',\n 'LJ045-0213.wav',\n 'LJ004-0096.wav',\n 'LJ010-0148.wav',\n 'LJ027-0131.wav',\n 'LJ037-0218.wav',\n 'LJ043-0048.wav',\n 'LJ018-0044.wav',\n 'LJ028-0514.wav',\n 'LJ027-0125.wav',\n 'LJ018-0050.wav',\n 'LJ028-0500.wav',\n 'LJ016-0307.wav',\n 'LJ045-0207.wav',\n 'LJ031-0057.wav',\n 'LJ004-0082.wav',\n 'LJ019-0044.wav',\n 'LJ011-0148.wav',\n 'LJ026-0131.wav',\n 'LJ042-0048.wav',\n 'LJ036-0218.wav',\n 'LJ044-0213.wav',\n 'LJ030-0043.wav',\n 'LJ028-0266.wav',\n 'LJ005-0096.wav',\n 'LJ046-0254.wav',\n 'LJ032-0004.wav',\n 'LJ003-0226.wav',\n 'LJ048-0103.wav',\n 'LJ014-0340.wav',\n 'LJ047-0240.wav',\n 'LJ033-0010.wav',\n 'LJ004-0069.wav',\n 'LJ049-0117.wav',\n 'LJ025-0162.wav',\n 'LJ002-0232.wav',\n 'LJ049-0103.wav',\n 'LJ025-0176.wav',\n 'LJ002-0226.wav',\n 'LJ033-0004.wav',\n 'LJ003-0232.wav',\n 'LJ048-0117.wav',\n 'LJ032-0010.wav',\n 'LJ046-0240.wav',\n 'LJ005-0069.wav',\n 'LJ028-0299.wav',\n 'LJ040-0033.wav',\n 'LJ013-0133.wav',\n 'LJ019-0093.wav',\n 'LJ005-0041.wav',\n 'LJ032-0038.wav',\n 'LJ030-0094.wav',\n 'LJ038-0198.wav',\n 'LJ041-0027.wav',\n 'LJ012-0127.wav',\n 'LJ018-0087.wav',\n 'LJ004-0055.wav',\n 'LJ031-0080.wav',\n 'LJ004-0041.wav',\n 'LJ033-0038.wav',\n 'LJ039-0198.wav',\n 'LJ031-0094.wav',\n 'LJ041-0033.wav',\n 'LJ012-0133.wav',\n 'LJ018-0093.wav',\n 'LJ005-0055.wav',\n 'LJ030-0080.wav',\n 'LJ040-0027.wav',\n 'LJ013-0127.wav',\n 'LJ019-0087.wav',\n 'LJ047-0081.wav',\n 'LJ014-0181.wav',\n 'LJ021-0154.wav',\n 'LJ006-0204.wav',\n 'LJ029-0058.wav',\n 'LJ008-0153.wav',\n 'LJ037-0026.wav',\n 'LJ046-0095.wav',\n 'LJ015-0195.wav',\n 'LJ017-0139.wav',\n 'LJ044-0039.wav',\n 'LJ007-0210.wav',\n 'LJ036-0032.wav',\n 'LJ009-0147.wav',\n 'LJ036-0026.wav',\n 'LJ009-0153.wav',\n 'LJ046-0081.wav',\n 'LJ015-0181.wav',\n 'LJ028-0058.wav',\n 'LJ007-0204.wav',\n 'LJ008-0147.wav',\n 'LJ037-0032.wav',\n 'LJ047-0095.wav',\n 'LJ014-0195.wav',\n 'LJ016-0139.wav',\n 'LJ021-0140.wav',\n 'LJ045-0039.wav',\n 'LJ006-0210.wav',\n 'LJ018-0246.wav',\n 'LJ006-0238.wav',\n 'LJ045-0011.wav',\n 'LJ021-0168.wav',\n 'LJ016-0111.wav',\n 'LJ029-0064.wav',\n 'LJ001-0077.wav',\n 'LJ019-0252.wav',\n 'LJ005-0280.wav',\n 'LJ028-0070.wav',\n 'LJ044-0005.wav',\n 'LJ030-0255.wav',\n 'LJ017-0105.wav',\n 'LJ005-0294.wav',\n 'LJ028-0064.wav',\n 'LJ007-0238.wav',\n 'LJ030-0241.wav',\n 'LJ044-0011.wav',\n 'LJ017-0111.wav',\n 'LJ001-0063.wav',\n 'LJ019-0246.wav',\n 'LJ045-0005.wav',\n 'LJ016-0105.wav',\n 'LJ029-0070.wav',\n 'LJ018-0252.wav',\n 'LJ008-0190.wav',\n 'LJ002-0030.wav',\n 'LJ035-0049.wav',\n 'LJ021-0197.wav',\n 'LJ033-0212.wav',\n 'LJ047-0042.wav',\n 'LJ014-0142.wav',\n 'LJ001-0088.wav',\n 'LJ009-0184.wav',\n 'LJ003-0024.wav',\n 'LJ050-0124.wav',\n 'LJ032-0206.wav',\n 'LJ046-0056.wav',\n 'LJ015-0156.wav',\n 'LJ046-0042.wav',\n 'LJ032-0212.wav',\n 'LJ015-0142.wav',\n 'LJ009-0190.wav',\n 'LJ003-0030.wav',\n 'LJ040-0219.wav',\n 'LJ034-0049.wav',\n 'LJ050-0130.wav',\n 'LJ021-0183.wav',\n 'LJ047-0056.wav',\n 'LJ033-0206.wav',\n 'LJ014-0156.wav',\n 'LJ008-0184.wav',\n 'LJ002-0024.wav',\n 'LJ023-0107.wav',\n 'LJ018-0285.wav',\n 'LJ035-0075.wav',\n 'LJ022-0113.wav',\n 'LJ005-0243.wav',\n 'LJ019-0291.wav',\n ...]"
     },
     "execution_count": 19,
     "metadata": {},
     "output_type": "execute_result"
    }
   ],
   "source": [
    "mylist"
   ],
   "metadata": {
    "collapsed": false,
    "pycharm": {
     "name": "#%%\n"
    }
   }
  },
  {
   "cell_type": "code",
   "execution_count": 2,
   "outputs": [],
   "source": [
    "metadata_path = \"./train.wrd\"\n",
    "df = pd.read_csv(metadata_path, delimiter='\\t')"
   ],
   "metadata": {
    "collapsed": false,
    "pycharm": {
     "name": "#%%\n"
    }
   }
  },
  {
   "cell_type": "code",
   "execution_count": 3,
   "outputs": [
    {
     "data": {
      "text/plain": "Index([' కాగా'], dtype='object')"
     },
     "execution_count": 3,
     "metadata": {},
     "output_type": "execute_result"
    }
   ],
   "source": [
    "df.columns"
   ],
   "metadata": {
    "collapsed": false,
    "pycharm": {
     "name": "#%%\n"
    }
   }
  },
  {
   "cell_type": "code",
   "execution_count": 48,
   "outputs": [],
   "source": [
    "\n",
    "def make_tarfile(output_filename, source_dir):\n",
    "    with tarfile.open(output_filename, \"w:gz\") as tar:\n",
    "        tar.add(source_dir, arcname=\"/\")"
   ],
   "metadata": {
    "collapsed": false,
    "pycharm": {
     "name": "#%%\n"
    }
   }
  },
  {
   "cell_type": "code",
   "execution_count": 49,
   "outputs": [],
   "source": [
    "dataset_path = \"./LJSpeech-1.1/wavs\"\n",
    "output_filename = \"./train_part_0.tar.gz\"\n",
    "make_tarfile(output_filename, dataset_path)"
   ],
   "metadata": {
    "collapsed": false,
    "pycharm": {
     "name": "#%%\n"
    }
   }
  },
  {
   "cell_type": "code",
   "execution_count": 15,
   "outputs": [],
   "source": [
    "def create_tsv(output_file, data):\n",
    "    keys = ['id','raw_text','normalized_text', 'speaker_id', 'split', 'gender', 'is_gold_transcript','accent']\n",
    "    with open(output_file, 'w') as tsv_file:\n",
    "        dict_writer = csv.DictWriter(tsv_file, keys, delimiter='\\t')\n",
    "        dict_writer.writeheader()\n",
    "        dict_writer.writerows(data)"
   ],
   "metadata": {
    "collapsed": false,
    "pycharm": {
     "name": "#%%\n"
    }
   }
  },
  {
   "cell_type": "code",
   "execution_count": 5,
   "outputs": [
    {
     "name": "stdout",
     "output_type": "stream",
     "text": [
      " కాగా     ఆంధ్రప్రదేశ్ లో ప్రైవేటు\n",
      "Name: 0, dtype: object\n"
     ]
    },
    {
     "ename": "IndexError",
     "evalue": "index 1 is out of bounds for axis 0 with size 1",
     "output_type": "error",
     "traceback": [
      "\u001B[0;31m---------------------------------------------------------------------------\u001B[0m",
      "\u001B[0;31mIndexError\u001B[0m                                Traceback (most recent call last)",
      "Cell \u001B[0;32mIn [5], line 5\u001B[0m\n\u001B[1;32m      3\u001B[0m \u001B[38;5;28;01mfor\u001B[39;00m index, row \u001B[38;5;129;01min\u001B[39;00m df\u001B[38;5;241m.\u001B[39miterrows():\n\u001B[1;32m      4\u001B[0m     \u001B[38;5;28mprint\u001B[39m(row)\n\u001B[0;32m----> 5\u001B[0m     \u001B[38;5;28mprint\u001B[39m(row[\u001B[38;5;241m0\u001B[39m], \u001B[43mrow\u001B[49m\u001B[43m[\u001B[49m\u001B[38;5;241;43m1\u001B[39;49m\u001B[43m]\u001B[49m)\n\u001B[1;32m      6\u001B[0m     \u001B[38;5;28;01mif\u001B[39;00m \u001B[38;5;28mlen\u001B[39m(row) \u001B[38;5;241m==\u001B[39m \u001B[38;5;241m2\u001B[39m:\n\u001B[1;32m      7\u001B[0m         row \u001B[38;5;241m=\u001B[39m [row[\u001B[38;5;241m0\u001B[39m], \u001B[38;5;241m*\u001B[39mrow[\u001B[38;5;241m1\u001B[39m]\u001B[38;5;241m.\u001B[39msplit(\u001B[38;5;124m'\u001B[39m\u001B[38;5;124m|\u001B[39m\u001B[38;5;124m'\u001B[39m)]\n",
      "File \u001B[0;32m~/Desktop/deep-learning-research/speech-recognition-transformers/.venv/lib/python3.10/site-packages/pandas/core/series.py:978\u001B[0m, in \u001B[0;36mSeries.__getitem__\u001B[0;34m(self, key)\u001B[0m\n\u001B[1;32m    975\u001B[0m     key \u001B[38;5;241m=\u001B[39m unpack_1tuple(key)\n\u001B[1;32m    977\u001B[0m \u001B[38;5;28;01mif\u001B[39;00m is_integer(key) \u001B[38;5;129;01mand\u001B[39;00m \u001B[38;5;28mself\u001B[39m\u001B[38;5;241m.\u001B[39mindex\u001B[38;5;241m.\u001B[39m_should_fallback_to_positional:\n\u001B[0;32m--> 978\u001B[0m     \u001B[38;5;28;01mreturn\u001B[39;00m \u001B[38;5;28;43mself\u001B[39;49m\u001B[38;5;241;43m.\u001B[39;49m\u001B[43m_values\u001B[49m\u001B[43m[\u001B[49m\u001B[43mkey\u001B[49m\u001B[43m]\u001B[49m\n\u001B[1;32m    980\u001B[0m \u001B[38;5;28;01melif\u001B[39;00m key_is_scalar:\n\u001B[1;32m    981\u001B[0m     \u001B[38;5;28;01mreturn\u001B[39;00m \u001B[38;5;28mself\u001B[39m\u001B[38;5;241m.\u001B[39m_get_value(key)\n",
      "\u001B[0;31mIndexError\u001B[0m: index 1 is out of bounds for axis 0 with size 1"
     ]
    }
   ],
   "source": [
    "dataset = [\n",
    "]\n",
    "for index, row in df.iterrows():\n",
    "    print(row)\n",
    "    print(row[0], row[1])\n",
    "    if len(row) == 2:\n",
    "        row = [row[0], *row[1].split('|')]\n",
    "\n",
    "    item = {}\n",
    "    item[\"id\"] = row[0]\n",
    "    item[\"raw_text\"] = row[1]\n",
    "    item[\"normalized_text\"] = row[2]\n",
    "    item[\"speaker_id\"] = \"None\"\n",
    "    item[\"split\"] = \"train\"\n",
    "    item[\"gender\"] =\"male\"\n",
    "    item[\"is_gold_transcript\"] = \"FALSE\"\n",
    "    item[\"accent\"] = \"None\"\n",
    "    dataset.append(item)\n",
    "    break\n",
    "\n",
    "create_tsv('./asr_train.tsv', dataset)"
   ],
   "metadata": {
    "collapsed": false,
    "pycharm": {
     "name": "#%%\n"
    }
   }
  },
  {
   "cell_type": "code",
   "execution_count": null,
   "outputs": [],
   "source": [
    "\n",
    "##\n",
    "\n",
    "\n",
    "##\n",
    "\n"
   ],
   "metadata": {
    "collapsed": false,
    "pycharm": {
     "name": "#%%\n"
    }
   }
  }
 ],
 "metadata": {
  "kernelspec": {
   "display_name": "Python 3",
   "language": "python",
   "name": "python3"
  },
  "language_info": {
   "codemirror_mode": {
    "name": "ipython",
    "version": 2
   },
   "file_extension": ".py",
   "mimetype": "text/x-python",
   "name": "python",
   "nbconvert_exporter": "python",
   "pygments_lexer": "ipython2",
   "version": "2.7.6"
  }
 },
 "nbformat": 4,
 "nbformat_minor": 0
}